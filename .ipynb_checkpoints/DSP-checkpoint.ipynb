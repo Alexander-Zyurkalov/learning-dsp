{
 "cells": [
  {
   "cell_type": "code",
   "execution_count": 5,
   "id": "60295d3f",
   "metadata": {},
   "outputs": [],
   "source": [
    "%matplotlib inline\n",
    "import matplotlib.pyplot as plt\n",
    "from matplotlib.widgets import Slider\n",
    "import numpy as np\n",
    "from IPython.display import display\n",
    "from ipywidgets import interactive\n",
    "\n",
    "Fs = 1000  # our sampling frequency for the discrete signal\n",
    "T = 1/Fs  # sampling period\n",
    "\n",
    "# function that will draw the sinusoid\n",
    "def draw_sinusoid(frequency, t_scale):\n",
    "    t = np.arange(0, t_scale, T)  # time vector for plot\n",
    "    \n",
    "    # Clear the current axes.\n",
    "    plt.clf() \n",
    "    \n",
    "    # Original Signal\n",
    "    y = np.sin(2 * np.pi * frequency * t)  # the discrete signal\n",
    "    plt.subplot(2, 1, 1)\n",
    "    plt.plot(t, y)\n",
    "    plt.title('Original signal')\n",
    "    plt.xlabel('Time (s)')\n",
    "    plt.ylabel('Amplitude')\n",
    "\n",
    "    # Delayed Signal\n",
    "    y_delay = np.sin(2 * np.pi * frequency * (t-T))  # the delayed signal\n",
    "    plt.subplot(2, 1, 2)\n",
    "    plt.plot(t, y_delay)\n",
    "    plt.title('Delayed signal')\n",
    "    plt.xlabel('Time (s)')\n",
    "    plt.ylabel('Amplitude')\n",
    "\n",
    "    # Ensure the plot is shown correctly with multiple plots\n",
    "    # in a single Notebook cell.\n",
    "    plt.tight_layout()\n",
    "    plt.show()\n",
    "    \n",
    "# Create an interactive plot with ipywidgets.interactive\n",
    "interactive_plot = interactive(draw_sinusoid, frequency=(0, Fs/2, 1), t_scale=(1, 10, 0.1))  # frequency slider from 0 to Nyquist (Fs/2) and t scale from 1 to 10\n",
    "interactive_plot.layout.height = '600px'\n",
    "display(interactive_plot)\n"
   ]
  },
  {
   "cell_type": "code",
   "execution_count": null,
   "id": "f18ca5b8",
   "metadata": {},
   "outputs": [],
   "source": []
  },
  {
   "cell_type": "code",
   "execution_count": null,
   "id": "1692d90d",
   "metadata": {},
   "outputs": [],
   "source": []
  }
 ],
 "metadata": {
  "kernelspec": {
   "display_name": "Python 3 (ipykernel)",
   "language": "python",
   "name": "python3"
  },
  "language_info": {
   "codemirror_mode": {
    "name": "ipython",
    "version": 3
   },
   "file_extension": ".py",
   "mimetype": "text/x-python",
   "name": "python",
   "nbconvert_exporter": "python",
   "pygments_lexer": "ipython3",
   "version": "3.9.6"
  }
 },
 "nbformat": 4,
 "nbformat_minor": 5
}
